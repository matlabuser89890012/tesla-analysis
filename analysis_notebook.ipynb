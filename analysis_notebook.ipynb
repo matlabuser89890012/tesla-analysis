{
 "cells": [
  {
   "cell_type": "markdown",
   "id": "e17a9c8b",
   "metadata": {},
   "source": [
    "# Tesla Stock Analysis (Concise)\n",
    "\n",
    "Minimal notebook for Tesla and peer stock analysis with GPU check."
   ]
  },
  {
   "cell_type": "code",
   "execution_count": null,
   "id": "4037231e",
   "metadata": {},
   "outputs": [],
   "source": [
    "# Load .env if present (optional)\n",
    "import os\n",
    "from pathlib import Path\n",
    "if Path('.env').exists():\n",
    "    from dotenv import load_dotenv\n",
    "    load_dotenv('.env')"
   ]
  },
  {
   "cell_type": "code",
   "execution_count": null,
   "id": "7c08d815",
   "metadata": {},
   "outputs": [],
   "source": [
    "# Imports\n",
    "import pandas as pd\n",
    "import yfinance as yf\n",
    "import plotly.graph_objects as go\n",
    "import plotly.express as px\n",
    "from datetime import datetime, timedelta"
   ]
  },
  {
   "cell_type": "code",
   "execution_count": null,
   "id": "9a15c570",
   "metadata": {},
   "outputs": [],
   "source": [
    "# Download 5 years of daily data for Tesla and peers\n",
    "stocks = ['TSLA', 'AAPL', 'MSFT', 'GOOGL', 'AMZN', 'META', 'NVDA']\n",
    "end = datetime.now()\n",
    "start = end - timedelta(days=5*365)\n",
    "data = {s: yf.download(s, start=start, end=end) for s in stocks}"
   ]
  },
  {
   "cell_type": "code",
   "execution_count": null,
   "id": "82cd8cd3",
   "metadata": {},
   "outputs": [],
   "source": [
    "# Tesla price chart and stats\n",
    "df = data['TSLA']\n",
    "fig = go.Figure(go.Scatter(x=df.index, y=df['Close'], name='TSLA'))\n",
    "fig.update_layout(title='Tesla Close Price', template='plotly_dark')\n",
    "fig.show()\n",
    "print(f\"Current: ${df['Close'].iloc[-1]:.2f} | High: ${df['High'].max():.2f} | Low: ${df['Low'].min():.2f}\")"
   ]
  },
  {
   "cell_type": "code",
   "execution_count": null,
   "id": "80bd515f",
   "metadata": {},
   "outputs": [],
   "source": [
    "# Normalized performance comparison\n",
    "norm = pd.DataFrame({s: data[s]['Close']/data[s]['Close'].iloc[0]*100 for s in stocks})\n",
    "px.line(norm, title=\"Normalized Performance (Base=100)\", template='plotly_dark').show()"
   ]
  },
  {
   "cell_type": "code",
   "execution_count": null,
   "id": "e136f7c7",
   "metadata": {},
   "outputs": [],
   "source": [
    "# Simple technical indicators for Tesla\n",
    "df['SMA50'] = df['Close'].rolling(50).mean()\n",
    "df['SMA200'] = df['Close'].rolling(200).mean()\n",
    "fig = go.Figure()\n",
    "fig.add_trace(go.Scatter(x=df.index, y=df['Close'], name='Close'))\n",
    "fig.add_trace(go.Scatter(x=df.index, y=df['SMA50'], name='SMA50'))\n",
    "fig.add_trace(go.Scatter(x=df.index, y=df['SMA200'], name='SMA200'))\n",
    "fig.update_layout(title='Tesla Close with SMA50/200', template='plotly_dark')\n",
    "fig.show()"
   ]
  },
  {
   "cell_type": "code",
   "execution_count": null,
   "id": "a66823b1",
   "metadata": {},
   "outputs": [],
   "source": [
    "# Quick GPU check\n",
    "try:\n",
    "    import torch\n",
    "    print(\"CUDA available:\", torch.cuda.is_available())\n",
    "except ImportError:\n",
    "    print(\"PyTorch not installed\")"
   ]
  }
 ],
 "metadata": {
  "language_info": {
   "name": "python"
  }
 },
 "nbformat": 4,
 "nbformat_minor": 5
}
